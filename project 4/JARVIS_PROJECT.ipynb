{
 "cells": [
  {
   "cell_type": "code",
   "execution_count": 3,
   "id": "3c91fa2e",
   "metadata": {
    "pycharm": {
     "name": "#%%\n"
    }
   },
   "outputs": [],
   "source": [
    "import os\n",
    "import subprocess \n",
    "import time\n",
    "import json"
   ]
  },
  {
   "cell_type": "code",
   "execution_count": 4,
   "id": "0d411e27",
   "metadata": {
    "pycharm": {
     "name": "#%%\n"
    }
   },
   "outputs": [],
   "source": [
    "import wikipedia\n",
    "import webbrowser\n",
    "import requests\n",
    "import wolframalpha\n",
    "import datetime"
   ]
  },
  {
   "cell_type": "code",
   "execution_count": 5,
   "id": "2fd6a44c",
   "metadata": {
    "pycharm": {
     "name": "#%%\n"
    }
   },
   "outputs": [],
   "source": [
    "import pyttsx3\n",
    "import speech_recognition as sr"
   ]
  },
  {
   "cell_type": "code",
   "execution_count": 6,
   "id": "b189a55e",
   "metadata": {
    "pycharm": {
     "name": "#%%\n"
    }
   },
   "outputs": [
    {
     "name": "stdout",
     "output_type": "stream",
     "text": [
      "LOADING YOUR PERSONAL A.I ASSISTANT JARVIS\n"
     ]
    }
   ],
   "source": [
    "print('LOADING YOUR PERSONAL A.I ASSISTANT JARVIS')"
   ]
  },
  {
   "cell_type": "code",
   "execution_count": 7,
   "id": "ed222b90",
   "metadata": {
    "pycharm": {
     "name": "#%%\n"
    }
   },
   "outputs": [],
   "source": [
    "engine = pyttsx3.init('sapi5')\n",
    "voices = engine.getProperty('voices')\n",
    "engine.setProperty(\"voice\",'voices[0].id')"
   ]
  },
  {
   "cell_type": "code",
   "execution_count": 8,
   "id": "f8ec66f6",
   "metadata": {
    "pycharm": {
     "name": "#%%\n"
    }
   },
   "outputs": [],
   "source": [
    "def speak(text):\n",
    "    engine.say(text)\n",
    "    engine.runAndWait()"
   ]
  },
  {
   "cell_type": "code",
   "execution_count": 9,
   "id": "602e32c9",
   "metadata": {
    "pycharm": {
     "name": "#%%\n"
    }
   },
   "outputs": [],
   "source": [
    "def wishMe():\n",
    "    hour = int(datetime.datetime.now().hour)\n",
    "    if hour>=0 and hour<12:\n",
    "        speak(\"Good Morning Sahil\")\n",
    "        print(\"Good Morning Sahil\")\n",
    "    elif hour>=12 and hour<16:\n",
    "        speak(\"Good Afternoon Sahil\")\n",
    "        print(\"Good Afternoon Sahil\")\n",
    "    elif hour>=16 and hour<22:\n",
    "        speak(\"Good Evening Sahil\")\n",
    "        print(\"Good Evening Sahil\")\n",
    "    else:\n",
    "        speak(\"It's too late. You better go to sleep Sahil. Good Night\")\n",
    "        print(\"It's too late. You better go to sleep Sahil. Good Night\")"
   ]
  },
  {
   "cell_type": "code",
   "execution_count": 10,
   "id": "1dc2c6a8",
   "metadata": {
    "pycharm": {
     "name": "#%%\n"
    }
   },
   "outputs": [],
   "source": [
    "def takeCommand():\n",
    "    r = sr.Recognizer()\n",
    "    with sr.Microphone() as source:\n",
    "        print(\"Listening...\")\n",
    "        audio = r.listen(source)\n",
    "\n",
    "    try:\n",
    "        print(\"Recognizing...\")\n",
    "        statement = r.recognize_google(audio, language='en-in')\n",
    "        print(f\"User Said: {statement}\\n\")\n",
    "\n",
    "    except Exception as e:\n",
    "        print(e)\n",
    "        print(\"Please can you say it again..\")\n",
    "        return \"None\"\n",
    "\n",
    "    return statement"
   ]
  },
  {
   "cell_type": "code",
   "execution_count": 11,
   "id": "0b90676f",
   "metadata": {
    "pycharm": {
     "name": "#%%\n"
    }
   },
   "outputs": [
    {
     "name": "stdout",
     "output_type": "stream",
     "text": [
      "Good Morning Sahil\n"
     ]
    }
   ],
   "source": [
    "speak(\"LOADING YOUR PERSONAL AI ASSISTANT JARVIS\")\n",
    "wishMe()"
   ]
  },
  {
   "cell_type": "code",
   "execution_count": 12,
   "id": "1d70c2c8",
   "metadata": {
    "pycharm": {
     "name": "#%%\n"
    }
   },
   "outputs": [
    {
     "name": "stdout",
     "output_type": "stream",
     "text": [
      "Listening...\n",
      "Recognizing...\n",
      "User Said: open Google\n",
      "\n",
      "Opening google\n",
      "Listening...\n",
      "Recognizing...\n",
      "User Said: open YouTube\n",
      "\n",
      "Opening Youtube\n",
      "Listening...\n",
      "Recognizing...\n",
      "User Said: who is Elon Musk according to Wikipedia\n",
      "\n",
      "Searching Wikipedia...\n",
      "Business magnate and industrial designer  Elon Musk is recognized for his efforts to combat global warming. According to Bill Gates, \"what Elon did with Tesla is one of the greatest contributions to climate change anyone's ever made\". Al Gore called himself \"a big fan of Tesla and of Elon Musk\".\n",
      "Listening...\n",
      "Recognizing...\n",
      "User Said: Jarvis who created you\n",
      "\n",
      "I was made by Sahil\n",
      "Listening...\n",
      "Recognizing...\n",
      "User Said: who are you\n",
      "\n",
      "Iam JARVIS. Your personal assistant. I can perform the following task like opening YouTube, Gmail, Google chrome and stack overflow. Also, I can Predict current time, take a photo, search Wikipedia to abstract required data, predict weather in different cities, get top headline news from Times of India and can answer computational and geographical questions too.\n",
      "Listening...\n",
      "Recognizing...\n",
      "User Said: what is the current time\n",
      "\n",
      "Listening...\n",
      "Recognizing...\n",
      "User Said: jarvis can I ask you something\n",
      "\n",
      "Listening...\n",
      "Recognizing...\n",
      "User Said: what is the distance between the Earth and Moon\n",
      "\n",
      "380838 km (kilometers)\n",
      "Listening...\n",
      "Recognizing...\n",
      "User Said: thank you Jarvis\n",
      "\n",
      "Your Personal AI Assistant JARVIS is shutting down, GOOD BYE\n"
     ]
    }
   ],
   "source": [
    "if __name__ == '__main__':\n",
    "    while True:\n",
    "        speak(\"How can I help you?\")\n",
    "        statement=takeCommand().lower()\n",
    "        if statement == 0:\n",
    "            continue\n",
    "        if \"thank you\" in statement or \"stop\" in statement:\n",
    "            speak(\"Your Personal AI Assistant JARVIS is shutting down, GOOD BYE\")\n",
    "            print(\"Your Personal AI Assistant JARVIS is shutting down, GOOD BYE\")\n",
    "            break\n",
    "        \n",
    "        if 'wikipedia' in statement:\n",
    "            speak(\"Searching Wikipedia...\")\n",
    "            print(\"Searching Wikipedia...\")\n",
    "            statement = statement.replace(\"wikipedia\", \"\")\n",
    "            results = wikipedia.summary(statement, sentences=3)\n",
    "            speak(\"According to wikipedia...\")\n",
    "            print(results)\n",
    "            speak(results)\n",
    "            \n",
    "        elif \"open youtube\" in statement:\n",
    "            speak(\"Opening Youtube\")\n",
    "            print(\"Opening Youtube\")\n",
    "            webbrowser.open_new_tab(\"https://www.youtube.com\")\n",
    "            time.sleep(5)\n",
    "        \n",
    "        elif \"open google\" in statement:\n",
    "            speak(\"Opening google\")\n",
    "            print(\"Opening google\")\n",
    "            webbrowser.open_new_tab(\"https://www.google.com\")\n",
    "            time.sleep(5)\n",
    "          \n",
    "        elif \"open gmail\" in statement:\n",
    "            speak(\"Opening gmail\")\n",
    "            print(\"Opening gmail\")\n",
    "            webbrowser.open_new_tab(\"https://mail.google.com\")\n",
    "            time.sleep(5)  \n",
    "        \n",
    "        elif \"weather\" in statement:\n",
    "            api_key = \"8ef61edcf1c576d65d836254e11ea420\"\n",
    "            base_url = 'https://api.openweathermap.org/data/2.5/weather?'\n",
    "            speak(\"What is the city name?\")\n",
    "            city_name = takeCommand()\n",
    "            complete_url = base_url+\"appid=\"+api_key+\"&q=\"+city_name\n",
    "            response = requests.get(complete_url)\n",
    "            x = response.json()\n",
    "            if x[\"cod\"] != \"404\":\n",
    "                y = x[\"main\"]\n",
    "                current_temperature = y[\"temp\"]\n",
    "                current_humidity = y[\"humidity\"]\n",
    "                z = x[\"weather\"]\n",
    "                weather_description = z[0][\"description\"]\n",
    "                speak(\"the temperature in kelvin units is \" + str(current_temperature) + \"\\nhumidity in percentage is\" +\n",
    "                      str(current_humidity)+\"\\n weather descripton\" + str(weather_description))\n",
    "                print(\"the temperature in kelvin units is \" + str(current_temperature) + \"\\nhumidity in percentage is\" +\n",
    "                      str(current_humidity)+\"\\n weather descripton\" + str(weather_description))\n",
    "            else:\n",
    "                speak(\"city not found\")\n",
    "                print(\"city not found\")\n",
    "        \n",
    "        elif \"time\" in statement:\n",
    "            strTime = datetime.datetime.now().strftime(\"%H:%M:%S\")\n",
    "            speak(f\"The time is{strTime}\")\n",
    "            \n",
    "        elif \"who are you\" in statement or \"what can you do\" in statement:\n",
    "            speak(\"Iam JARVIS. Your personal assistant. I can perform the following task like opening YouTube, Gmail, Google chrome and stack overflow. Also, I can Predict current time, take a photo, search Wikipedia to abstract required data, predict weather in different cities, get top headline news from Times of India and can answer computational and geographical questions too.\")\n",
    "            print(\"Iam JARVIS. Your personal assistant. I can perform the following task like opening YouTube, Gmail, Google chrome and stack overflow. Also, I can Predict current time, take a photo, search Wikipedia to abstract required data, predict weather in different cities, get top headline news from Times of India and can answer computational and geographical questions too.\")\n",
    "            \n",
    "        elif \"who made you\" in statement or \"who created you\" in statement or \"who discovered you\" in statement:\n",
    "            speak(\"I was made by Sahil\")\n",
    "            print(\"I was made by Sahil\")\n",
    "        \n",
    "        elif \"open stackoverflow\" in statement:\n",
    "            speak(\"Opening stack overflow\")\n",
    "            print(\"Opening stack overflow\")\n",
    "            webbrowser.open_new_tab(\"https://stackoverflow.com\")\n",
    "            time.sleep(5)\n",
    "            \n",
    "        elif \"news\" in statement:\n",
    "            news = webbrowser.open_new_tab(\"https://timesofindia.indiatimes.com/home/headlines\")\n",
    "            speak(\"Here are some headlines from times of India for you\")\n",
    "            time.sleep(5)\n",
    "            \n",
    "        elif \"search\" in statement:\n",
    "            statement = statement.replace(\"search\", \" \")\n",
    "            webbrowser.open_new_tab(\"statement\")\n",
    "            time.sleep(5)\n",
    "            \n",
    "        elif \"ask\" in statement:\n",
    "            speak(\"My versions are still under upgradation progress to enable more cool features. But you can try asking me computational and geographical questions now. Sure, I will answer those. What do you want to ask?\")\n",
    "            question = takeCommand()\n",
    "            app_id = \"R2K75H-7ELALHR35X\"\n",
    "            client = wolframalpha.Client('R2K75H-7ELALHR35X')\n",
    "            res = client.query(question)\n",
    "            answer = next(res.results).text\n",
    "            speak(answer)\n",
    "            print(answer)\n",
    "            \n",
    "        elif 'shutdown' in statement:\n",
    "            if platform == \"win32\":\n",
    "                os.system('shutdown /p /f')\n",
    "            elif platform == \"linux\" or platform == \"linux2\" or \"darwin\":\n",
    "                os.system('poweroff')\n",
    "                \n",
    "time.sleep(3)"
   ]
  },
  {
   "cell_type": "code",
   "execution_count": null,
   "id": "a02b0ee0",
   "metadata": {
    "pycharm": {
     "name": "#%%\n"
    }
   },
   "outputs": [],
   "source": []
  }
 ],
 "metadata": {
  "kernelspec": {
   "display_name": "Python 3.10.4 64-bit",
   "language": "python",
   "name": "python3"
  },
  "language_info": {
   "codemirror_mode": {
    "name": "ipython",
    "version": 3
   },
   "file_extension": ".py",
   "mimetype": "text/x-python",
   "name": "python",
   "nbconvert_exporter": "python",
   "pygments_lexer": "ipython3",
   "version": "3.10.4"
  },
  "vscode": {
   "interpreter": {
    "hash": "1709ac02e3cf51b3fb91bc25aa99cb6754fd107a085ff8ffbbbb8ae54967a239"
   }
  }
 },
 "nbformat": 4,
 "nbformat_minor": 5
}