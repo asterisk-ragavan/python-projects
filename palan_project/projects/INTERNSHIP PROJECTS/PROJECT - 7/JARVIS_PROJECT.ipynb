{
 "cells": [
  {
   "cell_type": "code",
   "execution_count": 1,
   "id": "3c91fa2e",
   "metadata": {
    "pycharm": {
     "name": "#%%\n"
    }
   },
   "outputs": [],
   "source": [
    "import os\n",
    "import subprocess \n",
    "import time\n",
    "import json"
   ]
  },
  {
   "cell_type": "code",
   "execution_count": 2,
   "id": "0d411e27",
   "metadata": {
    "pycharm": {
     "name": "#%%\n"
    }
   },
   "outputs": [],
   "source": [
    "import wikipedia\n",
    "import webbrowser\n",
    "import requests\n",
    "import wolframalpha\n",
    "import datetime\n",
    "import pyaudio"
   ]
  },
  {
   "cell_type": "code",
   "execution_count": 3,
   "id": "2fd6a44c",
   "metadata": {
    "pycharm": {
     "name": "#%%\n"
    }
   },
   "outputs": [],
   "source": [
    "import pyttsx3\n",
    "import speech_recognition as sr"
   ]
  },
  {
   "cell_type": "code",
   "execution_count": 4,
   "id": "b189a55e",
   "metadata": {
    "pycharm": {
     "name": "#%%\n"
    }
   },
   "outputs": [
    {
     "name": "stdout",
     "output_type": "stream",
     "text": [
      "LOADING YOUR PERSONAL A.I ASSISTANT JARVIS\n"
     ]
    }
   ],
   "source": [
    "print('LOADING YOUR PERSONAL A.I ASSISTANT JARVIS')"
   ]
  },
  {
   "cell_type": "code",
   "execution_count": 5,
   "id": "ed222b90",
   "metadata": {
    "pycharm": {
     "name": "#%%\n"
    }
   },
   "outputs": [],
   "source": [
    "engine = pyttsx3.init('sapi5')\n",
    "voices = engine.getProperty('voices')\n",
    "engine.setProperty(\"voice\",'voices[0].id')"
   ]
  },
  {
   "cell_type": "code",
   "execution_count": 6,
   "id": "f8ec66f6",
   "metadata": {
    "pycharm": {
     "name": "#%%\n"
    }
   },
   "outputs": [],
   "source": [
    "def speak(text):\n",
    "    engine.say(text)\n",
    "    engine.runAndWait()"
   ]
  },
  {
   "cell_type": "code",
   "execution_count": 7,
   "id": "602e32c9",
   "metadata": {
    "pycharm": {
     "name": "#%%\n"
    }
   },
   "outputs": [],
   "source": [
    "def wishMe():\n",
    "    hour = int(datetime.datetime.now().hour)\n",
    "    if hour>=0 and hour<12:\n",
    "        speak(\"Good Morning sheerio\")\n",
    "        print(\"Good Morning sheerio\")\n",
    "    elif hour>=12 and hour<16:\n",
    "        speak(\"Good Afternoon sheerio\")\n",
    "        print(\"Good Afternoon sheerio\")\n",
    "    elif hour>=16 and hour<22:\n",
    "        speak(\"Good Evening sheerio\")\n",
    "        print(\"Good Evening sheerio\")\n",
    "    else:\n",
    "        speak(\"It's too late. You better go to sleep sheerio. Good Night\")\n",
    "        print(\"It's too late. You better go to sleep sheerio. Good Night\")"
   ]
  },
  {
   "cell_type": "code",
   "execution_count": 8,
   "id": "1dc2c6a8",
   "metadata": {
    "pycharm": {
     "name": "#%%\n"
    }
   },
   "outputs": [],
   "source": [
    "def takeCommand():\n",
    "    r = sr.Recognizer()\n",
    "    with sr.Microphone() as source:\n",
    "        print(\"Listening...\")\n",
    "        audio = r.listen(source)\n",
    "\n",
    "    try:\n",
    "        print(\"Recognizing...\")\n",
    "        statement = r.recognize_google(audio, language='en-in')\n",
    "        print(f\"User Said: {statement}\\n\")\n",
    "\n",
    "    except Exception as e:\n",
    "        print(e)\n",
    "        print(\"Please can you say it again..\")\n",
    "        return \"None\"\n",
    "\n",
    "    return statement"
   ]
  },
  {
   "cell_type": "code",
   "execution_count": 9,
   "id": "0b90676f",
   "metadata": {
    "pycharm": {
     "name": "#%%\n"
    }
   },
   "outputs": [
    {
     "name": "stdout",
     "output_type": "stream",
     "text": [
      "Good Evening sheerio\n"
     ]
    }
   ],
   "source": [
    "speak(\"LOADING YOUR PERSONAL AI ASSISTANT JARVIS\")\n",
    "wishMe()"
   ]
  },
  {
   "cell_type": "code",
   "execution_count": 10,
   "outputs": [
    {
     "name": "stdout",
     "output_type": "stream",
     "text": [
      "Listening...\n",
      "Recognizing...\n",
      "\n",
      "Please can you say it again..\n",
      "Listening...\n",
      "Recognizing...\n",
      "\n",
      "Please can you say it again..\n"
     ]
    },
    {
     "name": "stderr",
     "output_type": "stream",
     "text": [
      "Exception ignored in: <function BSTR.__del__ at 0x000001D2F7114040>\n",
      "Traceback (most recent call last):\n",
      "  File \"C:\\Users\\sakth\\anaconda3\\envs\\palan_project\\lib\\site-packages\\comtypes\\__init__.py\", line 1043, in __del__\n",
      "    def __del__(self, _free=windll.oleaut32.SysFreeString):\n",
      "KeyboardInterrupt: \n"
     ]
    },
    {
     "name": "stdout",
     "output_type": "stream",
     "text": [
      "Listening...\n",
      "Recognizing...\n",
      "\n",
      "Please can you say it again..\n",
      "Listening...\n"
     ]
    },
    {
     "ename": "KeyboardInterrupt",
     "evalue": "",
     "output_type": "error",
     "traceback": [
      "\u001B[1;31m---------------------------------------------------------------------------\u001B[0m",
      "\u001B[1;31mKeyboardInterrupt\u001B[0m                         Traceback (most recent call last)",
      "Input \u001B[1;32mIn [10]\u001B[0m, in \u001B[0;36m<cell line: 1>\u001B[1;34m()\u001B[0m\n\u001B[0;32m      2\u001B[0m \u001B[38;5;28;01mwhile\u001B[39;00m \u001B[38;5;28;01mTrue\u001B[39;00m:\n\u001B[0;32m      3\u001B[0m     speak(\u001B[38;5;124m\"\u001B[39m\u001B[38;5;124mHow can I help you?\u001B[39m\u001B[38;5;124m\"\u001B[39m)\n\u001B[1;32m----> 4\u001B[0m     statement\u001B[38;5;241m=\u001B[39m\u001B[43mtakeCommand\u001B[49m\u001B[43m(\u001B[49m\u001B[43m)\u001B[49m\u001B[38;5;241m.\u001B[39mlower()\n\u001B[0;32m      5\u001B[0m     \u001B[38;5;28;01mif\u001B[39;00m statement \u001B[38;5;241m==\u001B[39m \u001B[38;5;241m0\u001B[39m:\n\u001B[0;32m      6\u001B[0m         \u001B[38;5;28;01mcontinue\u001B[39;00m\n",
      "Input \u001B[1;32mIn [8]\u001B[0m, in \u001B[0;36mtakeCommand\u001B[1;34m()\u001B[0m\n\u001B[0;32m      3\u001B[0m \u001B[38;5;28;01mwith\u001B[39;00m sr\u001B[38;5;241m.\u001B[39mMicrophone() \u001B[38;5;28;01mas\u001B[39;00m source:\n\u001B[0;32m      4\u001B[0m     \u001B[38;5;28mprint\u001B[39m(\u001B[38;5;124m\"\u001B[39m\u001B[38;5;124mListening...\u001B[39m\u001B[38;5;124m\"\u001B[39m)\n\u001B[1;32m----> 5\u001B[0m     audio \u001B[38;5;241m=\u001B[39m \u001B[43mr\u001B[49m\u001B[38;5;241;43m.\u001B[39;49m\u001B[43mlisten\u001B[49m\u001B[43m(\u001B[49m\u001B[43msource\u001B[49m\u001B[43m)\u001B[49m\n\u001B[0;32m      7\u001B[0m \u001B[38;5;28;01mtry\u001B[39;00m:\n\u001B[0;32m      8\u001B[0m     \u001B[38;5;28mprint\u001B[39m(\u001B[38;5;124m\"\u001B[39m\u001B[38;5;124mRecognizing...\u001B[39m\u001B[38;5;124m\"\u001B[39m)\n",
      "File \u001B[1;32m~\\anaconda3\\envs\\palan_project\\lib\\site-packages\\speech_recognition\\__init__.py:652\u001B[0m, in \u001B[0;36mRecognizer.listen\u001B[1;34m(self, source, timeout, phrase_time_limit, snowboy_configuration)\u001B[0m\n\u001B[0;32m    649\u001B[0m \u001B[38;5;28;01mif\u001B[39;00m phrase_time_limit \u001B[38;5;129;01mand\u001B[39;00m elapsed_time \u001B[38;5;241m-\u001B[39m phrase_start_time \u001B[38;5;241m>\u001B[39m phrase_time_limit:\n\u001B[0;32m    650\u001B[0m     \u001B[38;5;28;01mbreak\u001B[39;00m\n\u001B[1;32m--> 652\u001B[0m buffer \u001B[38;5;241m=\u001B[39m \u001B[43msource\u001B[49m\u001B[38;5;241;43m.\u001B[39;49m\u001B[43mstream\u001B[49m\u001B[38;5;241;43m.\u001B[39;49m\u001B[43mread\u001B[49m\u001B[43m(\u001B[49m\u001B[43msource\u001B[49m\u001B[38;5;241;43m.\u001B[39;49m\u001B[43mCHUNK\u001B[49m\u001B[43m)\u001B[49m\n\u001B[0;32m    653\u001B[0m \u001B[38;5;28;01mif\u001B[39;00m \u001B[38;5;28mlen\u001B[39m(buffer) \u001B[38;5;241m==\u001B[39m \u001B[38;5;241m0\u001B[39m: \u001B[38;5;28;01mbreak\u001B[39;00m  \u001B[38;5;66;03m# reached end of the stream\u001B[39;00m\n\u001B[0;32m    654\u001B[0m frames\u001B[38;5;241m.\u001B[39mappend(buffer)\n",
      "File \u001B[1;32m~\\anaconda3\\envs\\palan_project\\lib\\site-packages\\speech_recognition\\__init__.py:161\u001B[0m, in \u001B[0;36mMicrophone.MicrophoneStream.read\u001B[1;34m(self, size)\u001B[0m\n\u001B[0;32m    160\u001B[0m \u001B[38;5;28;01mdef\u001B[39;00m \u001B[38;5;21mread\u001B[39m(\u001B[38;5;28mself\u001B[39m, size):\n\u001B[1;32m--> 161\u001B[0m     \u001B[38;5;28;01mreturn\u001B[39;00m \u001B[38;5;28;43mself\u001B[39;49m\u001B[38;5;241;43m.\u001B[39;49m\u001B[43mpyaudio_stream\u001B[49m\u001B[38;5;241;43m.\u001B[39;49m\u001B[43mread\u001B[49m\u001B[43m(\u001B[49m\u001B[43msize\u001B[49m\u001B[43m,\u001B[49m\u001B[43m \u001B[49m\u001B[43mexception_on_overflow\u001B[49m\u001B[38;5;241;43m=\u001B[39;49m\u001B[38;5;28;43;01mFalse\u001B[39;49;00m\u001B[43m)\u001B[49m\n",
      "File \u001B[1;32m~\\anaconda3\\envs\\palan_project\\lib\\site-packages\\pyaudio.py:608\u001B[0m, in \u001B[0;36mStream.read\u001B[1;34m(self, num_frames, exception_on_overflow)\u001B[0m\n\u001B[0;32m    604\u001B[0m \u001B[38;5;28;01mif\u001B[39;00m \u001B[38;5;129;01mnot\u001B[39;00m \u001B[38;5;28mself\u001B[39m\u001B[38;5;241m.\u001B[39m_is_input:\n\u001B[0;32m    605\u001B[0m     \u001B[38;5;28;01mraise\u001B[39;00m \u001B[38;5;167;01mIOError\u001B[39;00m(\u001B[38;5;124m\"\u001B[39m\u001B[38;5;124mNot input stream\u001B[39m\u001B[38;5;124m\"\u001B[39m,\n\u001B[0;32m    606\u001B[0m                   paCanNotReadFromAnOutputOnlyStream)\n\u001B[1;32m--> 608\u001B[0m \u001B[38;5;28;01mreturn\u001B[39;00m \u001B[43mpa\u001B[49m\u001B[38;5;241;43m.\u001B[39;49m\u001B[43mread_stream\u001B[49m\u001B[43m(\u001B[49m\u001B[38;5;28;43mself\u001B[39;49m\u001B[38;5;241;43m.\u001B[39;49m\u001B[43m_stream\u001B[49m\u001B[43m,\u001B[49m\u001B[43m \u001B[49m\u001B[43mnum_frames\u001B[49m\u001B[43m,\u001B[49m\u001B[43m \u001B[49m\u001B[43mexception_on_overflow\u001B[49m\u001B[43m)\u001B[49m\n",
      "\u001B[1;31mKeyboardInterrupt\u001B[0m: "
     ]
    }
   ],
   "source": [
    "if __name__ == '__main__':\n",
    "    while True:\n",
    "        speak(\"How can I help you?\")\n",
    "        statement=takeCommand().lower()\n",
    "        if statement == 0:\n",
    "            continue\n",
    "        if \"thank you\" in statement or \"stop\" in statement:\n",
    "            speak(\"Your Personal AI Assistant JARVIS is shutting down, GOOD BYE\")\n",
    "            print(\"Your Personal AI Assistant JARVIS is shutting down, GOOD BYE\")\n",
    "            break\n",
    "        \n",
    "        if 'wikipedia' in statement:\n",
    "            speak(\"Searching Wikipedia...\")\n",
    "            print(\"Searching Wikipedia...\")\n",
    "            statement = statement.replace(\"wikipedia\", \"\")\n",
    "            results = wikipedia.summary(statement, sentences=3)\n",
    "            speak(\"According to wikipedia...\")\n",
    "            print(results)\n",
    "            speak(results)\n",
    "            \n",
    "        elif \"open youtube\" in statement:\n",
    "            speak(\"Opening Youtube\")\n",
    "            print(\"Opening Youtube\")\n",
    "            webbrowser.open_new_tab(\"https://www.youtube.com\")\n",
    "            time.sleep(5)\n",
    "        \n",
    "        elif \"open google\" in statement:\n",
    "            speak(\"Opening google\")\n",
    "            print(\"Opening google\")\n",
    "            webbrowser.open_new_tab(\"https://www.google.com\")\n",
    "            time.sleep(5)\n",
    "          \n",
    "        elif \"open gmail\" in statement:\n",
    "            speak(\"Opening gmail\")\n",
    "            print(\"Opening gmail\")\n",
    "            webbrowser.open_new_tab(\"https://mail.google.com\")\n",
    "            time.sleep(5)  \n",
    "        \n",
    "        elif \"weather\" in statement:\n",
    "            api_key = \"8ef61edcf1c576d65d836254e11ea420\"\n",
    "            base_url = 'https://api.openweathermap.org/data/2.5/weather?'\n",
    "            speak(\"What is the city name?\")\n",
    "            city_name = takeCommand()\n",
    "            complete_url = base_url+\"appid=\"+api_key+\"&q=\"+city_name\n",
    "            response = requests.get(complete_url)\n",
    "            x = response.json()\n",
    "            if x[\"cod\"] != \"404\":\n",
    "                y = x[\"main\"]\n",
    "                current_temperature = y[\"temp\"]\n",
    "                current_humidity = y[\"humidity\"]\n",
    "                z = x[\"weather\"]\n",
    "                weather_description = z[0][\"description\"]\n",
    "                speak(\"the temperature in kelvin units is \" + str(current_temperature) + \"\\nhumidity in percentage is\" +\n",
    "                      str(current_humidity)+\"\\n weather descripton\" + str(weather_description))\n",
    "                print(\"the temperature in kelvin units is \" + str(current_temperature) + \"\\nhumidity in percentage is\" +\n",
    "                      str(current_humidity)+\"\\n weather descripton\" + str(weather_description))\n",
    "            else:\n",
    "                speak(\"city not found\")\n",
    "                print(\"city not found\")\n",
    "        \n",
    "        elif \"time\" in statement:\n",
    "            strTime = datetime.datetime.now().strftime(\"%H:%M:%S\")\n",
    "            speak(f\"The time is{strTime}\")\n",
    "            \n",
    "        elif \"who are you\" in statement or \"what can you do\" in statement:\n",
    "            speak(\"Iam JARVIS. Your personal assistant. I can perform the following task like opening YouTube, Gmail, Google chrome and stack overflow. Also, I can Predict current time, take a photo, search Wikipedia to abstract required data, predict weather in different cities, get top headline news from Times of India and can answer computational and geographical questions too.\")\n",
    "            print(\"Iam JARVIS. Your personal assistant. I can perform the following task like opening YouTube, Gmail, Google chrome and stack overflow. Also, I can Predict current time, take a photo, search Wikipedia to abstract required data, predict weather in different cities, get top headline news from Times of India and can answer computational and geographical questions too.\")\n",
    "            \n",
    "        elif \"who made you\" in statement or \"who created you\" in statement or \"who discovered you\" in statement:\n",
    "            speak(\"I was made by sheerio\")\n",
    "            print(\"I was made by sheerio\")\n",
    "        \n",
    "        elif \"open stackoverflow\" in statement:\n",
    "            speak(\"Opening stack overflow\")\n",
    "            print(\"Opening stack overflow\")\n",
    "            webbrowser.open_new_tab(\"https://stackoverflow.com\")\n",
    "            time.sleep(5)\n",
    "            \n",
    "        elif \"news\" in statement:\n",
    "            news = webbrowser.open_new_tab(\"https://timesofindia.indiatimes.com/home/headlines\")\n",
    "            speak(\"Here are some headlines from times of India for you\")\n",
    "            time.sleep(5)\n",
    "            \n",
    "        elif \"search\" in statement:\n",
    "            statement = statement.replace(\"search\", \" \")\n",
    "            webbrowser.open_new_tab(\"statement\")\n",
    "            time.sleep(5)\n",
    "            \n",
    "        elif \"ask\" in statement:\n",
    "            speak(\"My versions are still under upgradation progress to enable more cool features. But you can try asking me computational and geographical questions now. Sure, I will answer those. What do you want to ask?\")\n",
    "            question = takeCommand()\n",
    "            app_id = \"R2K75H-7ELALHR35X\"\n",
    "            client = wolframalpha.Client('R2K75H-7ELALHR35X')\n",
    "            res = client.query(question)\n",
    "            answer = next(res.results).text\n",
    "            speak(answer)\n",
    "            print(answer)\n",
    "time.sleep(3)"
   ],
   "metadata": {
    "collapsed": false,
    "pycharm": {
     "name": "#%%\n"
    }
   }
  }
 ],
 "metadata": {
  "kernelspec": {
   "display_name": "Python 3.10.4 64-bit",
   "language": "python",
   "name": "python3"
  },
  "language_info": {
   "codemirror_mode": {
    "name": "ipython",
    "version": 3
   },
   "file_extension": ".py",
   "mimetype": "text/x-python",
   "name": "python",
   "nbconvert_exporter": "python",
   "pygments_lexer": "ipython3",
   "version": "3.10.4"
  },
  "vscode": {
   "interpreter": {
    "hash": "1709ac02e3cf51b3fb91bc25aa99cb6754fd107a085ff8ffbbbb8ae54967a239"
   }
  }
 },
 "nbformat": 4,
 "nbformat_minor": 5
}