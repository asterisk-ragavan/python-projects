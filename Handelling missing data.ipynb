{
 "cells": [
  {
   "cell_type": "markdown",
   "metadata": {
    "pycharm": {
     "name": "#%% md\n"
    }
   },
   "source": [
    "# Handling Missing Data"
   ]
  },
  {
   "cell_type": "markdown",
   "metadata": {
    "pycharm": {
     "name": "#%% md\n"
    }
   },
   "source": [
    "## What is missing data?\n",
    "\n",
    "Not all missing data is equal. At the heart of the matter, there exists the need to distinguish between two types of missingness:\n",
    "\n",
    "* **Unknown but existing data**: This is data that we know exists, however, due to sparse or incomplete sampling, we do not actually know the value of it. There is some value there, and it would be useful to try and apply some sort of missing data interpolation technique in order to discover it.\n",
    "\n",
    "   For example, in 2013 *The New York Times* published [a survey of income mobility in the United States](http://www.nytimes.com/2013/07/22/business/in-climbing-income-ladder-location-matters.html). As it happens often in datasets which drill this deep (to a county level), there were several counties for which the newspaper could not trace data. Yet it would be possible, and easy, if it was truly necessary to do so, to interpolate reasonable values for these counties based on data from the surrounding ones, for instance, or based on data from other counties with similar demographic profiles. This is fundamentally speaking, data that *can* be filled by some means.\n",
    "\n",
    "<!-- ![Map of the US by Income Mobility](location_matters.png \"Map of the US by Income Mobility\") -->\n",
    " \n",
    "  \n",
    "* **Data that doesn't exist**: data that does not exist at all, in any shape or form.\n",
    "\n",
    "  For example, it would make no sense to ask the average household income for residents of an industrial park or other such location where no people actually live. It would not *really* make sense to use 0 as a [sentinal value](https://en.wikipedia.org/wiki/Sentinel_value) in this case, either, because the existance of such a number implies in the first place the existance of people for whom an average can be taken&mdash;otherwise in trying to compute an average you are making a [divide by zero error](https://en.wikipedia.org/wiki/Division_by_zero)! This is, fundamentally speaking, data that *cannot* be filled by any means.\n",
    "\n",
    "\n",
    "This is an important distinction to keep in mind, and implementing it in some standard way significantly complicates the picture. It means that to ask the question \"is this data entry filled?\" one must actually consider three possible answers: \"Yes\", \"No, but it can be\", and \"No, and it cannot be\". There seem to be two dominant paradigms for handling this distinction:\n",
    "\n",
    "* **Bitpatterns**: Embed sentinal values into the array itself. For instance for integer data one might take `0` or `-9999` to signal unknown but existant data. This requires no overhead but can be confusing and oftentimes robs you of values that you might otherwise want to use (like `0` or `-9999`).\n",
    "\n",
    "\n",
    "* **Masks**: Use a seperate boolean array to \"mask\" the data whenever missing data needs to be represented. This requires making a second array and knowing when to apply it to the dataset, but is more robust.\n",
    "\n",
    "[Numpy](http://www.numpy.org/) is the linear algebra and vectorized mathematical operation library which underpins the Python scientific programming stack, and its methodologies inform how everything else works. Numpy has masks: these are provided via the `numpy.ma` module. But it has no native bitpatterns! There is still no performant native bitpattern `NA` type available whatsoever.\n",
    "\n",
    "The lack of a native `NA` type, as is the case in, say, R, is a **huge** problem for libraries, like [Pandas](http://pandas.pydata.org/), that should be able to efficiently handle large datasets.\n",
    "\n",
    "Indeed, **Pandas does not use the `numpy.ma` mask**. Masks are simply non-performant above for the purposes of a library that is expected to be able to handle literally millions of entries entirely in-memory, as `pandas` does. Pandas instead defines and uses its own null value sentinels, particularly `NaN` (`np.nan`) for null numbers and `NaT` (a psuedo-native handled under-the-hood); and then allows you to apply your own `isnull()` mask to your dataset (more on that shortly). \n"
   ]
  },
  {
   "cell_type": "markdown",
   "metadata": {
    "pycharm": {
     "name": "#%% md\n"
    }
   },
   "source": [
    "### ``None``: Pythonic missing data\n",
    "\n",
    "The first sentinel value used by Pandas is ``None``, a Python singleton object that is often used for missing data in Python code.\n",
    "Because it is a Python object, ``None`` cannot be used in any arbitrary NumPy/Pandas array, but only in arrays with data type ``'object'`` (i.e., arrays of Python objects):"
   ]
  },
  {
   "cell_type": "code",
   "execution_count": 1,
   "metadata": {
    "pycharm": {
     "name": "#%%\n"
    }
   },
   "outputs": [],
   "source": [
    "import numpy as np\n",
    "import pandas as pd"
   ]
  },
  {
   "cell_type": "markdown",
   "metadata": {
    "pycharm": {
     "name": "#%% md\n"
    }
   },
   "source": [
    "This ``dtype=object`` means that the best common type representation NumPy could infer for the contents of the array is that they are Python objects.\n",
    "While this kind of object array is useful for some purposes, any operations on the data will be done at the Python level, with much more overhead than the typically fast operations seen for arrays with native types:"
   ]
  },
  {
   "cell_type": "code",
   "execution_count": null,
   "metadata": {
    "pycharm": {
     "name": "#%%\n"
    }
   },
   "outputs": [],
   "source": [
    "%timeit np.arrange(1E5,dtype='object').sum()\n",
    "print()"
   ]
  },
  {
   "cell_type": "code",
   "execution_count": null,
   "metadata": {
    "pycharm": {
     "name": "#%%\n"
    }
   },
   "outputs": [],
   "source": []
  },
  {
   "cell_type": "markdown",
   "metadata": {
    "pycharm": {
     "name": "#%% md\n"
    }
   },
   "source": [
    "The use of Python objects in an array also means that if you perform aggregations like ``sum()`` or ``min()`` across an array with a ``None`` value, you will generally get an error:"
   ]
  },
  {
   "cell_type": "markdown",
   "metadata": {
    "pycharm": {
     "name": "#%% md\n"
    }
   },
   "source": [
    "### ``NaN``: Missing numerical data\n",
    "\n",
    "The other missing data representation, ``NaN`` (acronym for *Not a Number*), is different; it is a special floating-point value recognized by all systems that use the standard IEEE floating-point representation:"
   ]
  },
  {
   "cell_type": "code",
   "execution_count": 2,
   "metadata": {
    "pycharm": {
     "name": "#%%\n"
    }
   },
   "outputs": [
    {
     "data": {
      "text/plain": "dtype('float64')"
     },
     "execution_count": 2,
     "metadata": {},
     "output_type": "execute_result"
    }
   ],
   "source": [
    "vall = np.array([1,np.nan,7,1,8])\n",
    "vall.dtype"
   ]
  },
  {
   "cell_type": "markdown",
   "metadata": {
    "pycharm": {
     "name": "#%% md\n"
    }
   },
   "source": [
    "Notice that NumPy prefered a native floating-point type for this array: this means that unlike the object array from before, this array supports fast operations pushed into compiled code.\n",
    "You should be aware that ``NaN`` is a bit like data virus–it infects any other object it touches.\n",
    "Regardless of the operation, the result of arithmetic with ``NaN`` will be another ``NaN``:"
   ]
  },
  {
   "cell_type": "code",
   "execution_count": 3,
   "metadata": {
    "pycharm": {
     "name": "#%%\n"
    }
   },
   "outputs": [
    {
     "data": {
      "text/plain": "nan"
     },
     "execution_count": 3,
     "metadata": {},
     "output_type": "execute_result"
    }
   ],
   "source": [
    "6 +np.nan"
   ]
  },
  {
   "cell_type": "code",
   "execution_count": 4,
   "metadata": {
    "pycharm": {
     "name": "#%%\n"
    }
   },
   "outputs": [
    {
     "data": {
      "text/plain": "nan"
     },
     "execution_count": 4,
     "metadata": {},
     "output_type": "execute_result"
    }
   ],
   "source": [
    "7 * np.nan"
   ]
  },
  {
   "cell_type": "markdown",
   "metadata": {
    "pycharm": {
     "name": "#%% md\n"
    }
   },
   "source": [
    "NumPy does provide some special aggregations that will ignore these missing values:"
   ]
  },
  {
   "cell_type": "code",
   "execution_count": 5,
   "metadata": {
    "pycharm": {
     "name": "#%%\n"
    }
   },
   "outputs": [
    {
     "data": {
      "text/plain": "17.0"
     },
     "execution_count": 5,
     "metadata": {},
     "output_type": "execute_result"
    }
   ],
   "source": [
    "np.nansum(vall)"
   ]
  },
  {
   "cell_type": "code",
   "execution_count": null,
   "metadata": {
    "pycharm": {
     "name": "#%%\n"
    }
   },
   "outputs": [],
   "source": []
  },
  {
   "cell_type": "markdown",
   "metadata": {
    "pycharm": {
     "name": "#%% md\n"
    }
   },
   "source": [
    "Keep in mind that ``NaN`` is specifically a floating-point value; there is no equivalent NaN value for integers, strings, or other types."
   ]
  },
  {
   "cell_type": "markdown",
   "metadata": {
    "pycharm": {
     "name": "#%% md\n"
    }
   },
   "source": [
    "### NaN and None in Pandas\n",
    "\n",
    "``NaN`` and ``None`` both have their place, and Pandas is built to handle the two of them nearly interchangeably, converting between them where appropriate:"
   ]
  },
  {
   "cell_type": "code",
   "execution_count": 6,
   "metadata": {
    "pycharm": {
     "name": "#%%\n"
    }
   },
   "outputs": [
    {
     "data": {
      "text/plain": "0    1.0\n1    NaN\n2    4.0\n3    NaN\ndtype: float64"
     },
     "execution_count": 6,
     "metadata": {},
     "output_type": "execute_result"
    }
   ],
   "source": [
    "pd.Series([1,np.nan,4,None])"
   ]
  },
  {
   "cell_type": "markdown",
   "metadata": {
    "pycharm": {
     "name": "#%% md\n"
    }
   },
   "source": [
    "Notice that in addition to casting the integer array to floating point, Pandas automatically converts the ``None`` to a ``NaN`` value.\n",
    "(Be aware that there is a proposal to add a native integer NA to Pandas in the future; as of this writing, it has not been included).\n",
    "\n",
    "While this type of magic may feel a bit hackish compared to the more unified approach to NA values in domain-specific languages like R, the Pandas sentinel/casting approach works quite well in practice and in my experience only rarely causes issues.\n",
    "\n",
    "The following table lists the upcasting conventions in Pandas when NA values are introduced:\n",
    "\n",
    "|Typeclass     | Conversion When Storing NAs | NA Sentinel Value      |\n",
    "|--------------|-----------------------------|------------------------|\n",
    "| ``floating`` | No change                   | ``np.nan``             |\n",
    "| ``object``   | No change                   | ``None`` or ``np.nan`` |\n",
    "| ``integer``  | Cast to ``float64``         | ``np.nan``             |\n",
    "| ``boolean``  | Cast to ``object``          | ``None`` or ``np.nan`` |\n",
    "\n",
    "Keep in mind that in Pandas, string data is always stored with an ``object`` dtype."
   ]
  },
  {
   "cell_type": "markdown",
   "metadata": {
    "pycharm": {
     "name": "#%% md\n"
    }
   },
   "source": [
    "## Operating on Null Values\n",
    "\n",
    "As we have seen, Pandas treats ``None`` and ``NaN`` as essentially interchangeable for indicating missing or null values.\n",
    "To facilitate this convention, there are several useful methods for detecting, removing, and replacing null values in Pandas data structures.\n",
    "They are:\n",
    "\n",
    "- ``isnull()``: Generate a boolean mask indicating missing values\n",
    "- ``notnull()``: Opposite of ``isnull()``\n",
    "- ``dropna()``: Return a filtered version of the data\n",
    "- ``fillna()``: Return a copy of the data with missing values filled or imputed\n",
    "\n",
    "We will conclude this section with a brief exploration and demonstration of these routines."
   ]
  },
  {
   "cell_type": "markdown",
   "metadata": {
    "pycharm": {
     "name": "#%% md\n"
    }
   },
   "source": [
    "### Create dataframe with missing values"
   ]
  },
  {
   "cell_type": "code",
   "execution_count": 7,
   "metadata": {
    "pycharm": {
     "name": "#%%\n"
    }
   },
   "outputs": [
    {
     "name": "stdout",
     "output_type": "stream",
     "text": [
      "{'first name': ['avi', nan, 'vikram', 'amar', 'amy'], 'last name': ['babu', nan, 'ghost', 'agent', nan], 'age': [23, nan, 43, 12, 34], 'gender': ['m', nan, 'f', 'm', 'f'], 'pretest': [4, nan, nan, 23, 43], 'posttest': [25, nan, nan, 23, 43]}\n"
     ]
    },
    {
     "data": {
      "text/plain": "  first name last name   age gender  pretest  posttest\n0        avi      babu  23.0      m      4.0      25.0\n1        NaN       NaN   NaN    NaN      NaN       NaN\n2     vikram     ghost  43.0      f      NaN       NaN\n3       amar     agent  12.0      m     23.0      23.0\n4        amy       NaN  34.0      f     43.0      43.0",
      "text/html": "<div>\n<style scoped>\n    .dataframe tbody tr th:only-of-type {\n        vertical-align: middle;\n    }\n\n    .dataframe tbody tr th {\n        vertical-align: top;\n    }\n\n    .dataframe thead th {\n        text-align: right;\n    }\n</style>\n<table border=\"1\" class=\"dataframe\">\n  <thead>\n    <tr style=\"text-align: right;\">\n      <th></th>\n      <th>first name</th>\n      <th>last name</th>\n      <th>age</th>\n      <th>gender</th>\n      <th>pretest</th>\n      <th>posttest</th>\n    </tr>\n  </thead>\n  <tbody>\n    <tr>\n      <th>0</th>\n      <td>avi</td>\n      <td>babu</td>\n      <td>23.0</td>\n      <td>m</td>\n      <td>4.0</td>\n      <td>25.0</td>\n    </tr>\n    <tr>\n      <th>1</th>\n      <td>NaN</td>\n      <td>NaN</td>\n      <td>NaN</td>\n      <td>NaN</td>\n      <td>NaN</td>\n      <td>NaN</td>\n    </tr>\n    <tr>\n      <th>2</th>\n      <td>vikram</td>\n      <td>ghost</td>\n      <td>43.0</td>\n      <td>f</td>\n      <td>NaN</td>\n      <td>NaN</td>\n    </tr>\n    <tr>\n      <th>3</th>\n      <td>amar</td>\n      <td>agent</td>\n      <td>12.0</td>\n      <td>m</td>\n      <td>23.0</td>\n      <td>23.0</td>\n    </tr>\n    <tr>\n      <th>4</th>\n      <td>amy</td>\n      <td>NaN</td>\n      <td>34.0</td>\n      <td>f</td>\n      <td>43.0</td>\n      <td>43.0</td>\n    </tr>\n  </tbody>\n</table>\n</div>"
     },
     "execution_count": 7,
     "metadata": {},
     "output_type": "execute_result"
    }
   ],
   "source": [
    "raw_data = {'first name':['avi',np.nan,'vikram','amar','amy'],\n",
    "            'last name':['babu',np.nan,'ghost','agent',np.nan],\n",
    "            'age':[23,np.nan,43,12,34],\n",
    "            'gender':['m',np.nan,'f','m','f'],\n",
    "            'pretest':[4,np.nan,np.nan,23,43],\n",
    "            'posttest':[25,np.nan,np.nan,23,43]}\n",
    "print(raw_data)\n",
    "df = pd.DataFrame(raw_data,columns=['first name','last name','age','gender','pretest','posttest'])\n",
    "df"
   ]
  },
  {
   "cell_type": "markdown",
   "metadata": {
    "pycharm": {
     "name": "#%% md\n"
    }
   },
   "source": [
    "### Drop missing observations"
   ]
  },
  {
   "cell_type": "code",
   "execution_count": 9,
   "metadata": {
    "pycharm": {
     "name": "#%%\n"
    }
   },
   "outputs": [
    {
     "data": {
      "text/plain": "  first name last name   age gender  pretest  posttest\n0        avi      babu  23.0      m      4.0      25.0\n3       amar     agent  12.0      m     23.0      23.0",
      "text/html": "<div>\n<style scoped>\n    .dataframe tbody tr th:only-of-type {\n        vertical-align: middle;\n    }\n\n    .dataframe tbody tr th {\n        vertical-align: top;\n    }\n\n    .dataframe thead th {\n        text-align: right;\n    }\n</style>\n<table border=\"1\" class=\"dataframe\">\n  <thead>\n    <tr style=\"text-align: right;\">\n      <th></th>\n      <th>first name</th>\n      <th>last name</th>\n      <th>age</th>\n      <th>gender</th>\n      <th>pretest</th>\n      <th>posttest</th>\n    </tr>\n  </thead>\n  <tbody>\n    <tr>\n      <th>0</th>\n      <td>avi</td>\n      <td>babu</td>\n      <td>23.0</td>\n      <td>m</td>\n      <td>4.0</td>\n      <td>25.0</td>\n    </tr>\n    <tr>\n      <th>3</th>\n      <td>amar</td>\n      <td>agent</td>\n      <td>12.0</td>\n      <td>m</td>\n      <td>23.0</td>\n      <td>23.0</td>\n    </tr>\n  </tbody>\n</table>\n</div>"
     },
     "execution_count": 9,
     "metadata": {},
     "output_type": "execute_result"
    }
   ],
   "source": [
    "df_no_missing = df.dropna()\n",
    "df_no_missing"
   ]
  },
  {
   "cell_type": "markdown",
   "metadata": {
    "pycharm": {
     "name": "#%% md\n"
    }
   },
   "source": [
    "### Drop rows where all cells in that row is NA"
   ]
  },
  {
   "cell_type": "code",
   "execution_count": 10,
   "outputs": [
    {
     "data": {
      "text/plain": "  first name last name   age gender  pretest  posttest\n0        avi      babu  23.0      m      4.0      25.0\n2     vikram     ghost  43.0      f      NaN       NaN\n3       amar     agent  12.0      m     23.0      23.0\n4        amy       NaN  34.0      f     43.0      43.0",
      "text/html": "<div>\n<style scoped>\n    .dataframe tbody tr th:only-of-type {\n        vertical-align: middle;\n    }\n\n    .dataframe tbody tr th {\n        vertical-align: top;\n    }\n\n    .dataframe thead th {\n        text-align: right;\n    }\n</style>\n<table border=\"1\" class=\"dataframe\">\n  <thead>\n    <tr style=\"text-align: right;\">\n      <th></th>\n      <th>first name</th>\n      <th>last name</th>\n      <th>age</th>\n      <th>gender</th>\n      <th>pretest</th>\n      <th>posttest</th>\n    </tr>\n  </thead>\n  <tbody>\n    <tr>\n      <th>0</th>\n      <td>avi</td>\n      <td>babu</td>\n      <td>23.0</td>\n      <td>m</td>\n      <td>4.0</td>\n      <td>25.0</td>\n    </tr>\n    <tr>\n      <th>2</th>\n      <td>vikram</td>\n      <td>ghost</td>\n      <td>43.0</td>\n      <td>f</td>\n      <td>NaN</td>\n      <td>NaN</td>\n    </tr>\n    <tr>\n      <th>3</th>\n      <td>amar</td>\n      <td>agent</td>\n      <td>12.0</td>\n      <td>m</td>\n      <td>23.0</td>\n      <td>23.0</td>\n    </tr>\n    <tr>\n      <th>4</th>\n      <td>amy</td>\n      <td>NaN</td>\n      <td>34.0</td>\n      <td>f</td>\n      <td>43.0</td>\n      <td>43.0</td>\n    </tr>\n  </tbody>\n</table>\n</div>"
     },
     "execution_count": 10,
     "metadata": {},
     "output_type": "execute_result"
    }
   ],
   "source": [
    "df_no_missing = df.dropna(how='all')\n",
    "df_no_missing"
   ],
   "metadata": {
    "collapsed": false,
    "pycharm": {
     "name": "#%%\n"
    }
   }
  },
  {
   "cell_type": "markdown",
   "metadata": {
    "pycharm": {
     "name": "#%% md\n"
    }
   },
   "source": [
    "### Create a new column full of missing values"
   ]
  },
  {
   "cell_type": "code",
   "execution_count": 12,
   "metadata": {
    "pycharm": {
     "name": "#%%\n"
    }
   },
   "outputs": [
    {
     "data": {
      "text/plain": "  first name last name   age gender  pretest  posttest  location\n0        avi      babu  23.0      m      4.0      25.0       NaN\n1        NaN       NaN   NaN    NaN      NaN       NaN       NaN\n2     vikram     ghost  43.0      f      NaN       NaN       NaN\n3       amar     agent  12.0      m     23.0      23.0       NaN\n4        amy       NaN  34.0      f     43.0      43.0       NaN",
      "text/html": "<div>\n<style scoped>\n    .dataframe tbody tr th:only-of-type {\n        vertical-align: middle;\n    }\n\n    .dataframe tbody tr th {\n        vertical-align: top;\n    }\n\n    .dataframe thead th {\n        text-align: right;\n    }\n</style>\n<table border=\"1\" class=\"dataframe\">\n  <thead>\n    <tr style=\"text-align: right;\">\n      <th></th>\n      <th>first name</th>\n      <th>last name</th>\n      <th>age</th>\n      <th>gender</th>\n      <th>pretest</th>\n      <th>posttest</th>\n      <th>location</th>\n    </tr>\n  </thead>\n  <tbody>\n    <tr>\n      <th>0</th>\n      <td>avi</td>\n      <td>babu</td>\n      <td>23.0</td>\n      <td>m</td>\n      <td>4.0</td>\n      <td>25.0</td>\n      <td>NaN</td>\n    </tr>\n    <tr>\n      <th>1</th>\n      <td>NaN</td>\n      <td>NaN</td>\n      <td>NaN</td>\n      <td>NaN</td>\n      <td>NaN</td>\n      <td>NaN</td>\n      <td>NaN</td>\n    </tr>\n    <tr>\n      <th>2</th>\n      <td>vikram</td>\n      <td>ghost</td>\n      <td>43.0</td>\n      <td>f</td>\n      <td>NaN</td>\n      <td>NaN</td>\n      <td>NaN</td>\n    </tr>\n    <tr>\n      <th>3</th>\n      <td>amar</td>\n      <td>agent</td>\n      <td>12.0</td>\n      <td>m</td>\n      <td>23.0</td>\n      <td>23.0</td>\n      <td>NaN</td>\n    </tr>\n    <tr>\n      <th>4</th>\n      <td>amy</td>\n      <td>NaN</td>\n      <td>34.0</td>\n      <td>f</td>\n      <td>43.0</td>\n      <td>43.0</td>\n      <td>NaN</td>\n    </tr>\n  </tbody>\n</table>\n</div>"
     },
     "execution_count": 12,
     "metadata": {},
     "output_type": "execute_result"
    }
   ],
   "source": [
    "df['location'] = np.nan\n",
    "df"
   ]
  },
  {
   "cell_type": "markdown",
   "metadata": {
    "pycharm": {
     "name": "#%% md\n"
    }
   },
   "source": [
    "### Drop column if they only contain missing values"
   ]
  },
  {
   "cell_type": "code",
   "execution_count": 14,
   "metadata": {
    "pycharm": {
     "name": "#%%\n"
    }
   },
   "outputs": [
    {
     "data": {
      "text/plain": "  first name last name   age gender  pretest  posttest\n0        avi      babu  23.0      m      4.0      25.0\n1        NaN       NaN   NaN    NaN      NaN       NaN\n2     vikram     ghost  43.0      f      NaN       NaN\n3       amar     agent  12.0      m     23.0      23.0\n4        amy       NaN  34.0      f     43.0      43.0",
      "text/html": "<div>\n<style scoped>\n    .dataframe tbody tr th:only-of-type {\n        vertical-align: middle;\n    }\n\n    .dataframe tbody tr th {\n        vertical-align: top;\n    }\n\n    .dataframe thead th {\n        text-align: right;\n    }\n</style>\n<table border=\"1\" class=\"dataframe\">\n  <thead>\n    <tr style=\"text-align: right;\">\n      <th></th>\n      <th>first name</th>\n      <th>last name</th>\n      <th>age</th>\n      <th>gender</th>\n      <th>pretest</th>\n      <th>posttest</th>\n    </tr>\n  </thead>\n  <tbody>\n    <tr>\n      <th>0</th>\n      <td>avi</td>\n      <td>babu</td>\n      <td>23.0</td>\n      <td>m</td>\n      <td>4.0</td>\n      <td>25.0</td>\n    </tr>\n    <tr>\n      <th>1</th>\n      <td>NaN</td>\n      <td>NaN</td>\n      <td>NaN</td>\n      <td>NaN</td>\n      <td>NaN</td>\n      <td>NaN</td>\n    </tr>\n    <tr>\n      <th>2</th>\n      <td>vikram</td>\n      <td>ghost</td>\n      <td>43.0</td>\n      <td>f</td>\n      <td>NaN</td>\n      <td>NaN</td>\n    </tr>\n    <tr>\n      <th>3</th>\n      <td>amar</td>\n      <td>agent</td>\n      <td>12.0</td>\n      <td>m</td>\n      <td>23.0</td>\n      <td>23.0</td>\n    </tr>\n    <tr>\n      <th>4</th>\n      <td>amy</td>\n      <td>NaN</td>\n      <td>34.0</td>\n      <td>f</td>\n      <td>43.0</td>\n      <td>43.0</td>\n    </tr>\n  </tbody>\n</table>\n</div>"
     },
     "execution_count": 14,
     "metadata": {},
     "output_type": "execute_result"
    }
   ],
   "source": [
    "df.dropna(axis=1,how='all')"
   ]
  },
  {
   "cell_type": "markdown",
   "metadata": {
    "pycharm": {
     "name": "#%% md\n"
    }
   },
   "source": [
    "### Drop rows that contain less than five observations\n",
    "\n",
    "This is mostly useful for time series"
   ]
  },
  {
   "cell_type": "code",
   "execution_count": 15,
   "metadata": {
    "pycharm": {
     "name": "#%%\n"
    }
   },
   "outputs": [
    {
     "data": {
      "text/plain": "  first name last name   age gender  pretest  posttest  location\n0        avi      babu  23.0      m      4.0      25.0       NaN\n3       amar     agent  12.0      m     23.0      23.0       NaN\n4        amy       NaN  34.0      f     43.0      43.0       NaN",
      "text/html": "<div>\n<style scoped>\n    .dataframe tbody tr th:only-of-type {\n        vertical-align: middle;\n    }\n\n    .dataframe tbody tr th {\n        vertical-align: top;\n    }\n\n    .dataframe thead th {\n        text-align: right;\n    }\n</style>\n<table border=\"1\" class=\"dataframe\">\n  <thead>\n    <tr style=\"text-align: right;\">\n      <th></th>\n      <th>first name</th>\n      <th>last name</th>\n      <th>age</th>\n      <th>gender</th>\n      <th>pretest</th>\n      <th>posttest</th>\n      <th>location</th>\n    </tr>\n  </thead>\n  <tbody>\n    <tr>\n      <th>0</th>\n      <td>avi</td>\n      <td>babu</td>\n      <td>23.0</td>\n      <td>m</td>\n      <td>4.0</td>\n      <td>25.0</td>\n      <td>NaN</td>\n    </tr>\n    <tr>\n      <th>3</th>\n      <td>amar</td>\n      <td>agent</td>\n      <td>12.0</td>\n      <td>m</td>\n      <td>23.0</td>\n      <td>23.0</td>\n      <td>NaN</td>\n    </tr>\n    <tr>\n      <th>4</th>\n      <td>amy</td>\n      <td>NaN</td>\n      <td>34.0</td>\n      <td>f</td>\n      <td>43.0</td>\n      <td>43.0</td>\n      <td>NaN</td>\n    </tr>\n  </tbody>\n</table>\n</div>"
     },
     "execution_count": 15,
     "metadata": {},
     "output_type": "execute_result"
    }
   ],
   "source": [
    "df.dropna(thresh=5)"
   ]
  },
  {
   "cell_type": "markdown",
   "metadata": {
    "pycharm": {
     "name": "#%% md\n"
    }
   },
   "source": [
    "### Fill in missing data with zeros"
   ]
  },
  {
   "cell_type": "code",
   "execution_count": 16,
   "metadata": {
    "pycharm": {
     "name": "#%%\n"
    }
   },
   "outputs": [
    {
     "data": {
      "text/plain": "  first name last name   age gender  pretest  posttest  location\n0        avi      babu  23.0      m      4.0      25.0       0.0\n1          0         0   0.0      0      0.0       0.0       0.0\n2     vikram     ghost  43.0      f      0.0       0.0       0.0\n3       amar     agent  12.0      m     23.0      23.0       0.0\n4        amy         0  34.0      f     43.0      43.0       0.0",
      "text/html": "<div>\n<style scoped>\n    .dataframe tbody tr th:only-of-type {\n        vertical-align: middle;\n    }\n\n    .dataframe tbody tr th {\n        vertical-align: top;\n    }\n\n    .dataframe thead th {\n        text-align: right;\n    }\n</style>\n<table border=\"1\" class=\"dataframe\">\n  <thead>\n    <tr style=\"text-align: right;\">\n      <th></th>\n      <th>first name</th>\n      <th>last name</th>\n      <th>age</th>\n      <th>gender</th>\n      <th>pretest</th>\n      <th>posttest</th>\n      <th>location</th>\n    </tr>\n  </thead>\n  <tbody>\n    <tr>\n      <th>0</th>\n      <td>avi</td>\n      <td>babu</td>\n      <td>23.0</td>\n      <td>m</td>\n      <td>4.0</td>\n      <td>25.0</td>\n      <td>0.0</td>\n    </tr>\n    <tr>\n      <th>1</th>\n      <td>0</td>\n      <td>0</td>\n      <td>0.0</td>\n      <td>0</td>\n      <td>0.0</td>\n      <td>0.0</td>\n      <td>0.0</td>\n    </tr>\n    <tr>\n      <th>2</th>\n      <td>vikram</td>\n      <td>ghost</td>\n      <td>43.0</td>\n      <td>f</td>\n      <td>0.0</td>\n      <td>0.0</td>\n      <td>0.0</td>\n    </tr>\n    <tr>\n      <th>3</th>\n      <td>amar</td>\n      <td>agent</td>\n      <td>12.0</td>\n      <td>m</td>\n      <td>23.0</td>\n      <td>23.0</td>\n      <td>0.0</td>\n    </tr>\n    <tr>\n      <th>4</th>\n      <td>amy</td>\n      <td>0</td>\n      <td>34.0</td>\n      <td>f</td>\n      <td>43.0</td>\n      <td>43.0</td>\n      <td>0.0</td>\n    </tr>\n  </tbody>\n</table>\n</div>"
     },
     "execution_count": 16,
     "metadata": {},
     "output_type": "execute_result"
    }
   ],
   "source": [
    "df.fillna(0)"
   ]
  },
  {
   "cell_type": "markdown",
   "metadata": {
    "pycharm": {
     "name": "#%% md\n"
    }
   },
   "source": [
    "### Fill in missing in preTestScore with the mean value of preTestScore\n",
    "\n",
    "inplace=True means that the changes are saved to the df right away"
   ]
  },
  {
   "cell_type": "code",
   "execution_count": 19,
   "metadata": {
    "pycharm": {
     "name": "#%%\n"
    }
   },
   "outputs": [
    {
     "data": {
      "text/plain": "  first name last name   age gender    pretest  posttest  location\n0        avi      babu  23.0      m   4.000000      25.0       NaN\n1        NaN       NaN   NaN    NaN  23.333333       NaN       NaN\n2     vikram     ghost  43.0      f  23.333333       NaN       NaN\n3       amar     agent  12.0      m  23.000000      23.0       NaN\n4        amy       NaN  34.0      f  43.000000      43.0       NaN",
      "text/html": "<div>\n<style scoped>\n    .dataframe tbody tr th:only-of-type {\n        vertical-align: middle;\n    }\n\n    .dataframe tbody tr th {\n        vertical-align: top;\n    }\n\n    .dataframe thead th {\n        text-align: right;\n    }\n</style>\n<table border=\"1\" class=\"dataframe\">\n  <thead>\n    <tr style=\"text-align: right;\">\n      <th></th>\n      <th>first name</th>\n      <th>last name</th>\n      <th>age</th>\n      <th>gender</th>\n      <th>pretest</th>\n      <th>posttest</th>\n      <th>location</th>\n    </tr>\n  </thead>\n  <tbody>\n    <tr>\n      <th>0</th>\n      <td>avi</td>\n      <td>babu</td>\n      <td>23.0</td>\n      <td>m</td>\n      <td>4.000000</td>\n      <td>25.0</td>\n      <td>NaN</td>\n    </tr>\n    <tr>\n      <th>1</th>\n      <td>NaN</td>\n      <td>NaN</td>\n      <td>NaN</td>\n      <td>NaN</td>\n      <td>23.333333</td>\n      <td>NaN</td>\n      <td>NaN</td>\n    </tr>\n    <tr>\n      <th>2</th>\n      <td>vikram</td>\n      <td>ghost</td>\n      <td>43.0</td>\n      <td>f</td>\n      <td>23.333333</td>\n      <td>NaN</td>\n      <td>NaN</td>\n    </tr>\n    <tr>\n      <th>3</th>\n      <td>amar</td>\n      <td>agent</td>\n      <td>12.0</td>\n      <td>m</td>\n      <td>23.000000</td>\n      <td>23.0</td>\n      <td>NaN</td>\n    </tr>\n    <tr>\n      <th>4</th>\n      <td>amy</td>\n      <td>NaN</td>\n      <td>34.0</td>\n      <td>f</td>\n      <td>43.000000</td>\n      <td>43.0</td>\n      <td>NaN</td>\n    </tr>\n  </tbody>\n</table>\n</div>"
     },
     "execution_count": 19,
     "metadata": {},
     "output_type": "execute_result"
    }
   ],
   "source": [
    "df['pretest'].fillna(df['pretest'].mean(),inplace=True)\n",
    "df"
   ]
  },
  {
   "cell_type": "markdown",
   "metadata": {
    "pycharm": {
     "name": "#%% md\n"
    }
   },
   "source": [
    "### Fill in missing in postTestScore with each sex's mean value of postTestScore"
   ]
  },
  {
   "cell_type": "code",
   "execution_count": 20,
   "metadata": {
    "pycharm": {
     "name": "#%%\n"
    }
   },
   "outputs": [
    {
     "data": {
      "text/plain": "  first name last name   age gender    pretest  posttest  location\n0        avi      babu  23.0      m   4.000000      25.0       NaN\n1        NaN       NaN   NaN    NaN  23.333333       NaN       NaN\n2     vikram     ghost  43.0      f  23.333333      43.0       NaN\n3       amar     agent  12.0      m  23.000000      23.0       NaN\n4        amy       NaN  34.0      f  43.000000      43.0       NaN",
      "text/html": "<div>\n<style scoped>\n    .dataframe tbody tr th:only-of-type {\n        vertical-align: middle;\n    }\n\n    .dataframe tbody tr th {\n        vertical-align: top;\n    }\n\n    .dataframe thead th {\n        text-align: right;\n    }\n</style>\n<table border=\"1\" class=\"dataframe\">\n  <thead>\n    <tr style=\"text-align: right;\">\n      <th></th>\n      <th>first name</th>\n      <th>last name</th>\n      <th>age</th>\n      <th>gender</th>\n      <th>pretest</th>\n      <th>posttest</th>\n      <th>location</th>\n    </tr>\n  </thead>\n  <tbody>\n    <tr>\n      <th>0</th>\n      <td>avi</td>\n      <td>babu</td>\n      <td>23.0</td>\n      <td>m</td>\n      <td>4.000000</td>\n      <td>25.0</td>\n      <td>NaN</td>\n    </tr>\n    <tr>\n      <th>1</th>\n      <td>NaN</td>\n      <td>NaN</td>\n      <td>NaN</td>\n      <td>NaN</td>\n      <td>23.333333</td>\n      <td>NaN</td>\n      <td>NaN</td>\n    </tr>\n    <tr>\n      <th>2</th>\n      <td>vikram</td>\n      <td>ghost</td>\n      <td>43.0</td>\n      <td>f</td>\n      <td>23.333333</td>\n      <td>43.0</td>\n      <td>NaN</td>\n    </tr>\n    <tr>\n      <th>3</th>\n      <td>amar</td>\n      <td>agent</td>\n      <td>12.0</td>\n      <td>m</td>\n      <td>23.000000</td>\n      <td>23.0</td>\n      <td>NaN</td>\n    </tr>\n    <tr>\n      <th>4</th>\n      <td>amy</td>\n      <td>NaN</td>\n      <td>34.0</td>\n      <td>f</td>\n      <td>43.000000</td>\n      <td>43.0</td>\n      <td>NaN</td>\n    </tr>\n  </tbody>\n</table>\n</div>"
     },
     "execution_count": 20,
     "metadata": {},
     "output_type": "execute_result"
    }
   ],
   "source": [
    "df['posttest'].fillna(df.groupby('gender')['posttest'].transform('mean'),inplace=True)\n",
    "df"
   ]
  }
 ],
 "metadata": {
  "kernelspec": {
   "display_name": "Python 3 (ipykernel)",
   "language": "python",
   "name": "python3"
  },
  "language_info": {
   "codemirror_mode": {
    "name": "ipython",
    "version": 3
   },
   "file_extension": ".py",
   "mimetype": "text/x-python",
   "name": "python",
   "nbconvert_exporter": "python",
   "pygments_lexer": "ipython3",
   "version": "3.9.7"
  }
 },
 "nbformat": 4,
 "nbformat_minor": 2
}